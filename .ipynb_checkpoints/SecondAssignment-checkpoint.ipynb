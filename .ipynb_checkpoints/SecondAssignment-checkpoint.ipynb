{
 "cells": [
  {
   "cell_type": "code",
   "execution_count": 1,
   "metadata": {},
   "outputs": [
    {
     "name": "stdout",
     "output_type": "stream",
     "text": [
      "Take input from user 4\n",
      "50.26548245743669\n"
     ]
    }
   ],
   "source": [
    "from math import pi\n",
    "\n",
    "r=float(input('Take input from user '))\n",
    "\n",
    "print(pi*r**2)\n"
   ]
  },
  {
   "cell_type": "code",
   "execution_count": 2,
   "metadata": {},
   "outputs": [
    {
     "name": "stdout",
     "output_type": "stream",
     "text": [
      "\t\t\t\t\t\tMark Sheet\n",
      "Please Enter Math Marks 55\n",
      "Please Enter Computer Marks 67\n",
      "Please Enter Basic Programming Marks 99\n",
      "Please Enter Advanced Programing Marks 99\n",
      "Please Enter Data Structure Marks 99\n",
      "Total:  419\n",
      "Total Percentage:  83.8\n",
      "Grade is A+:\t  83.8\n"
     ]
    }
   ],
   "source": [
    "print('\\t\\t\\t\\t\\t\\tMark Sheet')\n",
    "math=int(input('Please Enter Math Marks '))\n",
    "comp=int(input('Please Enter Computer Marks '))\n",
    "bProg=int(input('Please Enter Basic Programming Marks '))\n",
    "aProg=int(input('Please Enter Advanced Programing Marks '))\n",
    "dStruct=int(input('Please Enter Data Structure Marks '))\n",
    "\n",
    "totalSum=math+comp+bProg+aProg+dStruct\n",
    "totalMarks=500\n",
    "totalPercentage=totalSum/totalMarks*100\n",
    "print(\"Total: \",totalSum)\n",
    "print(\"Total Percentage: \",totalPercentage)\n",
    "\n",
    "if(totalPercentage >= 80 and totalPercentage <=100):\n",
    "    print('Grade is A+:\\t ',totalPercentage);\n",
    "elif(totalPercentage >= 70 and totalPercentage <80):\n",
    "    print('Grade is A:\\t ',totalPercentage);\n",
    "elif(totalPercentage >= 60 and totalPercentage <70):\n",
    "    print('Grade is B:\\t ',totalPercentage);\n",
    "elif(totalPercentage >= 50 and totalPercentage <60):\n",
    "    print('Grade is C:\\t ',totalPercentage);\n",
    "elif(totalPercentage >= 40 and totalPercentage <50):\n",
    "    print('Grade is D:\\t ',totalPercentage);\n",
    "else:\n",
    "    print('Grade is Fail:\\t ',totalPercentage)"
   ]
  },
  {
   "cell_type": "code",
   "execution_count": 3,
   "metadata": {},
   "outputs": [
    {
     "name": "stdout",
     "output_type": "stream",
     "text": [
      "Enter any number: 55\n",
      "Is an odd number. 55\n"
     ]
    }
   ],
   "source": [
    "num = int(input(\"Enter any number: \"))\n",
    "if num%2==0:\n",
    "    print(\"Is an even number.\",num)\n",
    "else:\n",
    "    print(\"Is an odd number.\",num)"
   ]
  },
  {
   "cell_type": "code",
   "execution_count": 6,
   "metadata": {},
   "outputs": [
    {
     "name": "stdout",
     "output_type": "stream",
     "text": [
      "Select operation.\n",
      "1.Add\n",
      "2.Subtract\n",
      "3.Multiply\n",
      "4.Divide\n",
      "5.Power\n",
      "Enter first number: 55\n",
      "Enter second number: 55\n",
      "Enter choice(1/2/3/4/5): 1\n",
      "Answer  110.0\n"
     ]
    }
   ],
   "source": [
    "print(\"Select operation.\")\n",
    "print(\"1.Add\")\n",
    "print(\"2.Subtract\")\n",
    "print(\"3.Multiply\")\n",
    "print(\"4.Divide\")\n",
    "print(\"5.Power\")\n",
    "\n",
    "num1 = float(input(\"Enter first number: \"))\n",
    "num2 = float(input(\"Enter second number: \"))\n",
    "\n",
    "choice = input(\"Enter choice(1/2/3/4/5): \")\n",
    "\n",
    "if '1' in choice:\n",
    "    num3=num1+num2\n",
    "elif '2' in choice:\n",
    "    num3=num1-num2\n",
    "elif '3' in choice:\n",
    "    num3=num1*num2\n",
    "elif '4' in choice:\n",
    "    num3=num1//num2\n",
    "elif '5' in choice:\n",
    "    num3=num1**num2\n",
    "else:\n",
    "    print(\"Invalid input\")\n",
    "print('Answer ',num3)"
   ]
  },
  {
   "cell_type": "code",
   "execution_count": null,
   "metadata": {},
   "outputs": [],
   "source": []
  }
 ],
 "metadata": {
  "kernelspec": {
   "display_name": "Python 3",
   "language": "python",
   "name": "python3"
  },
  "language_info": {
   "codemirror_mode": {
    "name": "ipython",
    "version": 3
   },
   "file_extension": ".py",
   "mimetype": "text/x-python",
   "name": "python",
   "nbconvert_exporter": "python",
   "pygments_lexer": "ipython3",
   "version": "3.7.4"
  }
 },
 "nbformat": 4,
 "nbformat_minor": 2
}
