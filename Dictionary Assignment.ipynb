{
 "cells": [
  {
   "attachments": {
    "image.png": {
     "image/png": "[encoded data removed]"
    }
   },
   "cell_type": "markdown",
   "metadata": {},
   "source": [
    "![image.png](attachment:image.png)"
   ]
  },
  {
   "cell_type": "markdown",
   "metadata": {},
   "source": [
    "# Ex : 1\n",
    "\n",
    "Make a dictionary containing three major rivers and the country each river runs through. One key-value pair might be 'nile': 'egypt'.\n",
    "-\t Use a loop to print a sentence about each river, such as The Nile runs through Egypt.\n",
    "-\t Use a loop to print the name of each river included in the dictionary.\n",
    "-\t Use a loop to print the name of each country included in the dictionary.\n",
    "\n",
    "##### OUTPUT :\n",
    "\n",
    "Nile runs through Egypt .\n",
    "\n",
    ". River - Nile \n",
    "\n",
    ". Location - Egypt \n",
    "\n",
    "Amazon runs through South America\n",
    "\n",
    ". River - Amazon\n",
    "\n",
    ". Location - South America\n",
    "\n",
    "AND SO ON ...\n"
   ]
  },
  {
   "cell_type": "code",
   "execution_count": 53,
   "metadata": {},
   "outputs": [
    {
     "name": "stdout",
     "output_type": "stream",
     "text": [
      "Nile run through Egypt\n",
      ".River -Nile\n",
      ".Location -Egypt\n",
      "Amazon run through South America\n",
      ".River -Amazon\n",
      ".Location -South America\n"
     ]
    }
   ],
   "source": [
    "dic={'Nile':'Egypt','Amazon':'South America'}\n",
    "\n",
    "for i,j in dic.items():\n",
    "    print(f'{i} run through {j}')\n",
    "    print(f'.River -{i}')\n",
    "    print(f'.Location -{j}') \n",
    "    "
   ]
  },
  {
   "cell_type": "markdown",
   "metadata": {},
   "source": [
    "# Ex : 2a\n",
    "\n",
    "Use a dictionary to store information about a person you know.Store their **first name**, **last name**, **age**, and the **city** in which they live. You should have keys such as **first_name**, **last_name**, **age**, and **city**. Print each piece of information stored in your dictionary."
   ]
  },
  {
   "cell_type": "code",
   "execution_count": null,
   "metadata": {},
   "outputs": [
    {
     "name": "stdout",
     "output_type": "stream",
     "text": [
      "Store Information about person\t\t\t\n",
      "{'firstName': 'Farrukh', 'LastName': 'khan', 'Age': 24, 'City': 'Karachi'}\n",
      "Enter Your QualificationGraduate\n",
      "{'firstName': 'Farrukh', 'LastName': 'khan', 'Age': 24, 'City': 'Karachi', 'Qualification': 'Graduate'}\n"
     ]
    }
   ],
   "source": [
    "print('Store Information about person\\t\\t\\t')\n",
    "\n",
    "person={\n",
    "    'firstName':'Farrukh',\n",
    "    'LastName':'khan',\n",
    "    'Age':24,\n",
    "    'City':'Karachi'\n",
    "}\n",
    "print(person)\n",
    "userInputAdd=input('Enter Your Qualification')\n",
    "person['Qualification']=userInputAdd\n",
    "print(person)\n",
    "userInputUpdate=input('Update Your Qualification')\n",
    "person['Qualification']=userInputUpdate\n",
    "print(person)\n",
    "del person['Qualification']\n",
    "print(person)"
   ]
  },
  {
   "cell_type": "markdown",
   "metadata": {},
   "source": [
    "# Ex : 2b\n",
    "\n",
    "Start with the program you wrote for Exercise 2a.Make two new dictionaries representing different people, and store all three dictionaries in a list called people. Loop through your list of people. As you loop through the list, print everything you know about each person."
   ]
  },
  {
   "cell_type": "code",
   "execution_count": 7,
   "metadata": {},
   "outputs": [
    {
     "name": "stdout",
     "output_type": "stream",
     "text": [
      "{'fName': 'taha', 'lName': 'Khan', 'age': 19, 'Qualification': 'Inter'}\n",
      "{'fName': 'Moiz', 'lName': 'Khan', 'age': 17, 'Qualification': 'Inter'}\n",
      "{'fName': 'Fahad', 'lName': 'Khan', 'age': 15, 'Qualification': 'Matric'}\n"
     ]
    }
   ],
   "source": [
    "dic1={'fName':'taha','lName':'Khan','age':19,'Qualification':'Inter'}\n",
    "dic2={'fName':'Moiz','lName':'Khan','age':17,'Qualification':'Inter'}\n",
    "dic3={'fName':'Fahad','lName':'Khan','age':15,'Qualification':'Matric'}\n",
    "\n",
    "list1=[dic1,dic2,dic3]\n",
    "print(list1[0])\n",
    "print(list1[1])\n",
    "print(list1[2])\n"
   ]
  },
  {
   "cell_type": "markdown",
   "metadata": {},
   "source": [
    "# Ex : 3\n",
    "\n",
    "Make a dictionary called cities. Use the names of three cities as keys in your dictionary. Create a dictionary of information about each city and include the country that the city is in, its approximate population, and one fact about that city. The keys for each city’s dictionary should be something like country, population, and fact. Print the name of each city and all of the information you have stored about it.\n"
   ]
  },
  {
   "cell_type": "code",
   "execution_count": null,
   "metadata": {},
   "outputs": [],
   "source": [
    "cities={\n",
    "     \"Karachi\": {\n",
    "        \"Population\": \"14.91 million\",\n",
    "        \"Fact\": \"Largest city of Pakistan\",\n",
    "        \"Country\": \"Pakistan\"\n",
    "    },\n",
    "    \"Paris\": {\n",
    "        \"Population\": \"2.141 million\",\n",
    "        \"Fact\": \"city of Love\",\n",
    "        \"Country\": \"French\"\n",
    "    },\n",
    "    \"Moscow\": {\n",
    "        \"Population\": \"11.92 million\",\n",
    "        \"Fact\": \"Unconquered City\",\n",
    "        \"Country\": \"Russia\"\n",
    "    }\n",
    "}\n",
    "for key,values in cities.items():\n",
    "    print(key,values)"
   ]
  },
  {
   "cell_type": "markdown",
   "metadata": {},
   "source": [
    "# Ex : 4\n",
    "\n",
    "Write a Python script to concatenate following dictionaries to create a new one. Go to the editor\n",
    "\n",
    "##### OUTPUT\n",
    "\n",
    "Sample Dictionary :\n",
    "\n",
    "dic1={1:10, 2:20}\n",
    "\n",
    "dic2={3:30, 4:40}\n",
    "\n",
    "dic3={5:50,6:60}\n",
    "\n",
    "Expected Result : {1: 10, 2: 20, 3: 30, 4: 40, 5: 50, 6: 60}"
   ]
  },
  {
   "cell_type": "code",
   "execution_count": 11,
   "metadata": {},
   "outputs": [
    {
     "name": "stdout",
     "output_type": "stream",
     "text": [
      "{1: 10, 2: 20, 3: 30, 4: 40, 5: 50, 6: 60}\n"
     ]
    }
   ],
   "source": [
    "dic1={1:10, 2:20}\n",
    "\n",
    "dic2={3:30, 4:40}\n",
    "\n",
    "dic3={5:50,6:60}\n",
    "dic1.update(dic2)\n",
    "dic1.update(dic3)\n",
    "print(dic1)"
   ]
  },
  {
   "cell_type": "markdown",
   "metadata": {},
   "source": [
    "# Ex : 5\n",
    "\n",
    "Write a Python program to create a dictionary from a string. \n",
    "Note: Track the count of the letters from the string.\n",
    "\n",
    "##### OUTPUT\n",
    "Sample string : 'Dictionaries'\n",
    "\n",
    "Expected output: {'D': 1, 'i': 3, 'c': 1, 't': 1, 'o': 1, 'n': 1, 'a': 1, 'r': 1 , 'e' : 1 , 's' : 1}"
   ]
  },
  {
   "cell_type": "code",
   "execution_count": 50,
   "metadata": {},
   "outputs": [
    {
     "name": "stdout",
     "output_type": "stream",
     "text": [
      "{'D': 1, 'i': 3, 'c': 1, 't': 1, 'o': 1, 'n': 1, 'a': 1, 'r': 1, 'e': 1, 's': 1}\n"
     ]
    }
   ],
   "source": [
    "a ='Dictionaries'\n",
    "listOfCharac={}\n",
    "for s in a:\n",
    "    if s in listOfCharac.keys():\n",
    "        listOfCharac[s]+=1\n",
    "    else:\n",
    "        listOfCharac[s]=1\n",
    "print (listOfCharac)\n",
    "\n",
    "    \n",
    "    \n"
   ]
  },
  {
   "cell_type": "markdown",
   "metadata": {},
   "source": [
    "# Ex : 6\n",
    "\n",
    "Write a Python program to create a dictionary of keys x, y, and z where each key has as value a list from 11-20, 21-30, and 31-40 respectively. Access the fifth value of each key from the dictionary. \n",
    "\n",
    "##### OUTPUT\n",
    "{'x': [11, 12, 13, 14, 15, 16, 17, 18, 19],'y': [21, 22, 23, 24, 25, 26, 27, 28, 29],'z': [31, 32, 33, 34, 35, 36, 37, 38, 39]}\n",
    "\n",
    "**15**\n",
    "\n",
    "**25**\n",
    "\n",
    "**35**\n",
    "\n",
    "x has value [11, 12, 13, 14, 15, 16, 17, 18, 19]\n",
    "\n",
    "y has value [21, 22, 23, 24, 25, 26, 27, 28, 29]\n",
    "\n",
    "z has value [31, 32, 33, 34, 35, 36, 37, 38, 39]"
   ]
  },
  {
   "cell_type": "code",
   "execution_count": 12,
   "metadata": {},
   "outputs": [
    {
     "name": "stdout",
     "output_type": "stream",
     "text": [
      "15\n",
      "25\n",
      "35\n",
      "x: has value [11, 12, 13, 14, 15, 16, 17, 18, 19]\n",
      "y: has value [21, 22, 23, 24, 25, 26, 27, 28, 29]\n",
      "z: has value [31, 32, 33, 34, 35, 36, 37, 38, 39]\n"
     ]
    }
   ],
   "source": [
    "keys={'x':[11, 12, 13, 14, 15, 16, 17, 18, 19],\n",
    "     'y':[21, 22, 23, 24, 25, 26, 27, 28, 29],\n",
    "     'z':[31, 32, 33, 34, 35, 36, 37, 38, 39]}\n",
    "\n",
    "for i,j in keys.items():\n",
    "    print(j[4])\n",
    "    \n",
    "print(f'x: has value {keys[\"x\"]}')\n",
    "print(f'y: has value {keys[\"y\"]}')\n",
    "print(f'z: has value {keys[\"z\"]}')"
   ]
  },
  {
   "cell_type": "markdown",
   "metadata": {},
   "source": [
    "# Ex : 7a\n",
    "\n",
    "Create a new dictionary called **prices**\n",
    "\n",
    "- Put these values in your prices dictionary:\n",
    "**\"banana\": 4,\n",
    "\"apple\": 2,\n",
    "\"orange\": 1.5,\n",
    "\"pear\": 3**\n",
    "- Loop through each key in prices. For each key, print out the key along with its price \n",
    "- Check whether the topping is in the list . If yes , Recall the order else ask for another one .\n",
    "\n",
    "##### OUTPUT :\n",
    "\n",
    "banana \n",
    "<br>price : 4\n",
    "<br> apple\n",
    "<br>price: 2\n",
    "<br>:\n",
    "<br>:"
   ]
  },
  {
   "cell_type": "code",
   "execution_count": 18,
   "metadata": {},
   "outputs": [
    {
     "name": "stdout",
     "output_type": "stream",
     "text": [
      "banana\n",
      "price: 4\n",
      "apple\n",
      "price: 2\n",
      "orange\n",
      "price: 1.5\n",
      "pear\n",
      "price: 3\n"
     ]
    }
   ],
   "source": [
    "prices={\"banana\": 4, \"apple\": 2, \"orange\": 1.5, \"pear\": 3}\n",
    "for i,j in prices.items():\n",
    "    print(f'{i}\\nprice: {j}')"
   ]
  },
  {
   "cell_type": "markdown",
   "metadata": {},
   "source": [
    "# Ex : 7b\n",
    "\n",
    "Let's determine how much money you would make if you sold all of your food.\n",
    "\n",
    "- Create a variable called **total** and set it to zero.\n",
    "- Loop through the prices dictionaries.For each key in prices, multiply the number in prices by the number in stock. \n",
    "- Print that value into the console and then add it to total.\n",
    "- Finally, outside your loop, print total."
   ]
  },
  {
   "cell_type": "code",
   "execution_count": 17,
   "metadata": {},
   "outputs": [
    {
     "name": "stdout",
     "output_type": "stream",
     "text": [
      "52.5\n"
     ]
    }
   ],
   "source": [
    "prices={\"banana\": 4, \"apple\": 2, \"orange\": 1.5, \"pear\": 3}\n",
    "total=0\n",
    "\n",
    "for price in prices.values():\n",
    "    total*=price\n",
    "    total+=price\n",
    "print(total)"
   ]
  },
  {
   "cell_type": "markdown",
   "metadata": {},
   "source": [
    "## Ex :  8 (OPTIONAL)\n",
    "\n",
    "**Try to solve this exercise by yourself first.Otherwise we'll solve this in the class**\n",
    "\n",
    "Count the number of occurrence of each letter in word \"MISSISSIPPI\". Store count of every letter with the letter in a dictionary."
   ]
  },
  {
   "cell_type": "code",
   "execution_count": 49,
   "metadata": {},
   "outputs": [
    {
     "name": "stdout",
     "output_type": "stream",
     "text": [
      "{'M': 1, 'I': 4, 'S': 4, 'P': 2}\n"
     ]
    }
   ],
   "source": [
    "a =\"MISSISSIPPI\"\n",
    "listOfCharac={}\n",
    "for s in a:\n",
    "    if s in listOfCharac.keys():\n",
    "        listOfCharac[s]+=1\n",
    "    else:\n",
    "        listOfCharac[s]=1\n",
    "print (listOfCharac)\n"
   ]
  },
  {
   "cell_type": "markdown",
   "metadata": {},
   "source": [
    "# Ex : 9 \n",
    "\n",
    "Given a dictionary, the task is to filter all the negative values from given dictionary\n",
    "dict = {'a':1, 'b':-2, 'c':-3, 'd':7, 'e':0} \n",
    "  \n",
    "##### OUTPUT :\n",
    "resultant dictionary :  {'a': 1, 'd': 7, 'e': 0}"
   ]
  },
  {
   "cell_type": "code",
   "execution_count": 34,
   "metadata": {},
   "outputs": [
    {
     "name": "stdout",
     "output_type": "stream",
     "text": [
      "Resultant Dictionary: {'a': 1, 'd': 7, 'e': 0}\n"
     ]
    }
   ],
   "source": [
    "dict ={'a':1, 'b':-2, 'c':-3, 'd':7, 'e':0}\n",
    "dict1 = {}\n",
    "for key,value in dict.items():\n",
    "    if value>=0:\n",
    "        dict[key]=value\n",
    "        dict1[key]=value\n",
    "print(f'Resultant Dictionary: {dict1}')"
   ]
  },
  {
   "attachments": {
    "image.png": {
     "image/png": "[encoded data removed]"
    }
   },
   "cell_type": "markdown",
   "metadata": {},
   "source": [
    "## EX :  10\n",
    "\n",
    "Given a Dictionary. The task is to print the dictionary in the table format.\n",
    "\n",
    "##### Input:\n",
    "{1: [“Samuel”, 21, ‘Data Structures’],2: [“Richie”, 20, ‘Machine Learning’],3: [“Lauren”, 21, ‘OOPS with java’],}\n",
    "\n",
    "##### Output:\n",
    "\n",
    "![image.png](attachment:image.png)"
   ]
  },
  {
   "cell_type": "code",
   "execution_count": 40,
   "metadata": {},
   "outputs": [
    {
     "name": "stdout",
     "output_type": "stream",
     "text": [
      "Name  Age Course\n",
      "Samuel 21 Data Structures\n",
      "Richie 20 Machine Learning\n",
      "Lauren 21 OOPS with java\n"
     ]
    }
   ],
   "source": [
    "dic={1: ['Samuel', 21, 'Data Structures'],2: ['Richie', 20, 'Machine Learning'],3: ['Lauren', 21, 'OOPS with java'],}\n",
    "print('Name  Age Course')\n",
    "for i,j in dic.items():   \n",
    "    print(j[0] ,j[1] ,j[2])"
   ]
  },
  {
   "cell_type": "code",
   "execution_count": 51,
   "metadata": {},
   "outputs": [
    {
     "name": "stdout",
     "output_type": "stream",
     "text": [
      "Please take input Right\n",
      "Left\n"
     ]
    }
   ],
   "source": [
    "'''Class Work'''\n",
    "word={\"Right\":\"Left\",\"Up\":\"Down\"}\n",
    "userInput=input(\"Please take input \")\n",
    "\n",
    "for i,j in word.items():\n",
    "    if userInput in i:\n",
    "        print(j)"
   ]
  },
  {
   "cell_type": "code",
   "execution_count": 52,
   "metadata": {},
   "outputs": [
    {
     "name": "stdout",
     "output_type": "stream",
     "text": [
      "Please take inputRight\n",
      "Left\n"
     ]
    }
   ],
   "source": [
    "word={\"Right\":\"Left\",\"Up\":\"Down\"}\n",
    "\n",
    "userInput=input(\"Please take input\")\n",
    "if userInput in word.keys():\n",
    "    print(word[userInput])"
   ]
  },
  {
   "cell_type": "code",
   "execution_count": null,
   "metadata": {},
   "outputs": [],
   "source": []
  }
 ],
 "metadata": {
  "kernelspec": {
   "display_name": "Python 3",
   "language": "python",
   "name": "python3"
  },
  "language_info": {
   "codemirror_mode": {
    "name": "ipython",
    "version": 3
   },
   "file_extension": ".py",
   "mimetype": "text/x-python",
   "name": "python",
   "nbconvert_exporter": "python",
   "pygments_lexer": "ipython3",
   "version": "3.7.4"
  }
 },
 "nbformat": 4,
 "nbformat_minor": 2
}
