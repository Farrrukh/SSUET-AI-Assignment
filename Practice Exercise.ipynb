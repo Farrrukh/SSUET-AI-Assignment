{
 "cells": [
  {
   "attachments": {
    "image.png": {
     "image/png": "[encoded data removed]"
    }
   },
   "cell_type": "markdown",
   "metadata": {},
   "source": [
    "![image.png](attachment:image.png)"
   ]
  },
  {
   "cell_type": "markdown",
   "metadata": {},
   "source": [
    "# Ex : 1\n",
    "Input integers from the user (7 times) and store them in a list , find sum of its elements.\n",
    "\n",
    "### Examples :\n",
    "\n",
    "--- [1, 2, 3]<br>\n",
    "logic :  1 + 2 + 3 = 6 <br><br>\n",
    "**Output** : 6<br>\n",
    "\n",
    "--- [15, 12, 13, 10]<br>\n",
    "**Output** : 50"
   ]
  },
  {
   "cell_type": "code",
   "execution_count": 7,
   "metadata": {},
   "outputs": [
    {
     "name": "stdout",
     "output_type": "stream",
     "text": [
      "50\n"
     ]
    }
   ],
   "source": [
    "a=[15, 12, 13, 10]\n",
    "b=0\n",
    "for s in a:\n",
    "    b+=s\n",
    "print(b)"
   ]
  },
  {
   "cell_type": "markdown",
   "metadata": {},
   "source": [
    "# Ex : 2\n",
    "Given a positive integer N. The task is to find 1<sup>2</sup> + 2<sup>2</sup> + 3<sup>2</sup> + ….. + N<sup>2</sup>.\n",
    "\n",
    "### Examples:\n",
    "\n",
    "**Input** : N = 4 <br>\n",
    "> **Logic** : 1<sup>2</sup> + 2<sup>2</sup> + 3<sup>2</sup> + 4<sup>2</sup><br>\n",
    "            >>= 1 + 4 + 9 + 16<br>\n",
    "              = 30<br>\n",
    "**Output** : 30 <br>\n",
    "\n",
    "\n",
    "**Input** : N = 5 <br>\n",
    "**Output** : 55 <br>"
   ]
  },
  {
   "cell_type": "code",
   "execution_count": 29,
   "metadata": {},
   "outputs": [
    {
     "name": "stdout",
     "output_type": "stream",
     "text": [
      "Take input from user5\n",
      "55\n"
     ]
    }
   ],
   "source": [
    "n=int(input(\"Take input from user\"))\n",
    "sums = 0\n",
    "for i in range(1, n + 1): \n",
    "    sums += (i * i) \n",
    "print(sums) "
   ]
  },
  {
   "cell_type": "markdown",
   "metadata": {},
   "source": [
    "# Ex : 3 \n",
    "Create a series of Fibonacci number upto 30\n",
    "\n",
    "### Example :\n",
    "\n",
    "0, 1, 1, 2, 3, 5, 8, 13, 21, 34, 55, 89, 144,....\n",
    "\n",
    "###### What is Fibonacci no. ?\n",
    "\n",
    "The Fibonacci Sequence is the series of numbers:\n",
    "\n",
    "0, 1, 1, 2, 3, 5, 8, 13, 21, 34, ...\n",
    "\n",
    "The next number is found by adding up the two numbers before it.\n",
    "\n",
    "- The 2 is found by adding the two numbers before it (1+1)\n",
    "- The 3 is found by adding the two numbers before it (1+2),\n",
    "- And the 5 is (2+3),\n",
    "- and so on!"
   ]
  },
  {
   "cell_type": "code",
   "execution_count": 32,
   "metadata": {},
   "outputs": [
    {
     "name": "stdout",
     "output_type": "stream",
     "text": [
      "Please Enter Number 31\n",
      "1\n",
      "1\n",
      "2\n",
      "3\n",
      "5\n",
      "8\n",
      "13\n",
      "21\n",
      "34\n",
      "55\n",
      "89\n",
      "144\n",
      "233\n",
      "377\n",
      "610\n",
      "987\n",
      "1597\n",
      "2584\n",
      "4181\n",
      "6765\n",
      "10946\n",
      "17711\n",
      "28657\n",
      "46368\n",
      "75025\n",
      "121393\n",
      "196418\n",
      "317811\n",
      "514229\n"
     ]
    }
   ],
   "source": [
    "num1=int(input(\"Please Enter Number \"))\n",
    "a = 0\n",
    "b = 1\n",
    "for i in range(2,num1):\n",
    "    c=a+b\n",
    "    a=b\n",
    "    b=c\n",
    "    print(a)\n",
    "    \n",
    "    "
   ]
  },
  {
   "cell_type": "markdown",
   "metadata": {},
   "source": [
    "# Ex : 4\n",
    "Input a number **N** and check if n is a Fibonacci number. First few Fibonacci numbers are 0, 1, 1, 2, 3, 5, 8, 13, 21, 34, 55, 89, 141,...\n",
    "\n",
    "### HINT : \n",
    "A number is Fibonacci if and only if one or both of (5*n2 + 4) **or** (5*n2 – 4) is a perfect square\n",
    "\n",
    "### Example :\n",
    "**Input** : 8 <br>\n",
    "**Output** : Yes <br>\n",
    "\n",
    "**Input** : 34 <br>\n",
    "**Output** : Yes <br>\n",
    "\n",
    "**Input** : 41 <br>\n",
    "**Output** : No"
   ]
  },
  {
   "cell_type": "code",
   "execution_count": 13,
   "metadata": {},
   "outputs": [
    {
     "name": "stdout",
     "output_type": "stream",
     "text": [
      "Take input from user 8\n",
      "Yes\n",
      "Take input from user 34\n",
      "Yes\n",
      "Take input from user 41\n",
      "No\n"
     ]
    }
   ],
   "source": [
    "n=int(input(\"Take input from user \"))\n",
    "formula=5*n**2+4\n",
    "if formula%2==0:       \n",
    "    print(\"Yes\")\n",
    "else:\n",
    "    print(\"No\")\n"
   ]
  },
  {
   "cell_type": "markdown",
   "metadata": {},
   "source": [
    "#### Ex : 5 \n",
    "Input an integer and find its factorial (N!). \n",
    "\n",
    "### Example :\n",
    "**Input** : 4 <br>\n",
    "**Logic** : 4x3x2x1 <br>\n",
    "**Output** : 24 <br>\n",
    "\n",
    "**Input** : 6 <br>\n",
    "**Logic** : 6x5x4x3x2x1 <br>\n",
    "**Output** : 720 <br>"
   ]
  },
  {
   "cell_type": "code",
   "execution_count": 8,
   "metadata": {},
   "outputs": [
    {
     "name": "stdout",
     "output_type": "stream",
     "text": [
      "find factorial ?6\n",
      "720\n"
     ]
    }
   ],
   "source": [
    "num = int(input(\"find factorial ?\"))\n",
    "b=1\n",
    "while(num>0):\n",
    "    b*=num\n",
    "    num=num-1\n",
    "print(b)"
   ]
  },
  {
   "cell_type": "markdown",
   "metadata": {},
   "source": [
    "# Ex : 6\n",
    "Write a program to find the largest and smallest number in a list"
   ]
  },
  {
   "cell_type": "code",
   "execution_count": 25,
   "metadata": {},
   "outputs": [
    {
     "name": "stdout",
     "output_type": "stream",
     "text": [
      "Largest Number  200\n",
      "Largest Number  1\n"
     ]
    }
   ],
   "source": [
    "list1=[]\n",
    "\n",
    "for a in range(1,201):\n",
    "    list1.append(a)\n",
    "    \n",
    "print('Largest Number ',max(list1))\n",
    "print('Largest Number ',min(list1))"
   ]
  },
  {
   "attachments": {
    "image.png": {
     "image/png": "[encoded data removed]"
    }
   },
   "cell_type": "markdown",
   "metadata": {},
   "source": [
    "# Ex : 7\n",
    "Write a program to Split the list and add the first part to the end\n",
    "\n",
    "### Example :\n",
    "There is a given an array and split it from a specified position, and move the first part of array add to the end.\n",
    "\n",
    "![image.png](attachment:image.png)"
   ]
  },
  {
   "cell_type": "code",
   "execution_count": 27,
   "metadata": {},
   "outputs": [
    {
     "name": "stdout",
     "output_type": "stream",
     "text": [
      "5 6 52 36 12 10 "
     ]
    }
   ],
   "source": [
    "arr = [12, 10, 5, 6, 52, 36] \n",
    "n = len(arr) \n",
    "position = 2\n",
    "for i in range(0, position):  \n",
    "        x = arr[0] \n",
    "        for j in range(0, n-1): \n",
    "            arr[j] = arr[j + 1] \n",
    "          \n",
    "        arr[n-1] = x \n",
    "for i in range(0, n):  \n",
    "    print(arr[i], end = ' ') "
   ]
  },
  {
   "cell_type": "markdown",
   "metadata": {},
   "source": [
    "# Ex :8\n",
    "Write a program to count positive and negative numbers in a list\n",
    "\n",
    "### Example:\n",
    "\n",
    "**Input** : list1 = [2, -7, 5, -64, -14] <br>\n",
    "**Output** : pos = 2, neg = 3 <br>\n",
    "\n",
    "**Input** : list2 = [-12, 14, 95, 3] <br>\n",
    "**Output** : pos = 3, neg = 1 <br>"
   ]
  },
  {
   "cell_type": "code",
   "execution_count": 28,
   "metadata": {},
   "outputs": [
    {
     "name": "stdout",
     "output_type": "stream",
     "text": [
      "Positive Number 2\n",
      "Negative Number 3\n"
     ]
    }
   ],
   "source": [
    "list1 = [2, -7, 5, -64, -14]\n",
    "pos=0\n",
    "neg=0\n",
    "for a in list1:\n",
    "    if a>0:\n",
    "        pos+=1\n",
    "    elif a<0:\n",
    "        neg+=1\n",
    "print(\"Positive Number\",pos)\n",
    "print(\"Negative Number\",neg)        "
   ]
  },
  {
   "cell_type": "markdown",
   "metadata": {},
   "source": [
    "# Ex : 9\n",
    "Given a string, write a python function to check if it is palindrome or not. \n",
    "A string is said to be palindrome if reverse of the string is same as string. For example, “radar” is palindrome, but “radix” is not palindrome.\n",
    "\n",
    "### Examples:\n",
    "\n",
    "**Input** : Mom <br>\n",
    "**Output** : Yes <br>\n",
    "\n",
    "**Input** : Hello <br>\n",
    "**Output** : No <br>"
   ]
  },
  {
   "cell_type": "code",
   "execution_count": 12,
   "metadata": {},
   "outputs": [
    {
     "name": "stdout",
     "output_type": "stream",
     "text": [
      "Enter Stringaba\n",
      "The reverse of string is: aba\n",
      "The given string is Palindrome.\n"
     ]
    }
   ],
   "source": [
    "string=input(\"Enter string\")\n",
    "j = string\n",
    "rev = \"\"\n",
    "while len(j) > 0:\n",
    "    if len(j) > 0:\n",
    "        a = j[-1]\n",
    "    j = j[:-1]\n",
    "    rev = rev + a\n",
    "print(\"The reverse of string is:\", rev)\n",
    "if rev == string:\n",
    "    print(\"The given string is Palindrome.\")\n",
    "else:\n",
    "    print(\"The given string is not Palindrome.\")      \n",
    "    "
   ]
  },
  {
   "cell_type": "markdown",
   "metadata": {},
   "source": [
    "# Ex : 10 \n",
    "Given a string, the task is to check and accept the given string if contains all vowels i.e. ‘a’, ‘e’, ‘i’.’o’, ‘u’ or ‘A’, ‘E’, ‘I’, ‘O’, ‘U’ .\n",
    "\n",
    "### Examples :\n",
    "\n",
    "**Input** : Karachi <br>\n",
    "**Output** : Not Accepted <br>\n",
    "\n",
    "**Input** : ABeeIghiObhkUul <br>\n",
    "**Output** : Accepted <br>"
   ]
  },
  {
   "cell_type": "code",
   "execution_count": 22,
   "metadata": {},
   "outputs": [
    {
     "name": "stdout",
     "output_type": "stream",
     "text": [
      "Please Enter Your Own String :  Karachi\n",
      "Not Accepted\n",
      "Please Enter Your Own String : ABeeIghiObhkUul\n",
      "Accepted\n"
     ]
    }
   ],
   "source": [
    "for i in range(2):\n",
    "    str1 = input(\"Please Enter Your Own String : \")\n",
    " \n",
    "    for i in str1:\n",
    "        if(i == 'a' or i == 'e' or i == 'i' or i == 'o' or i == 'u' or i == 'A' or i == 'E' or i == 'I' or i == 'O' or i == 'U'):\n",
    "            print(\"Accepted\")\n",
    "            break;\n",
    "        else:\n",
    "            print(\"Not Accepted\")\n",
    "            break\n",
    "    "
   ]
  },
  {
   "cell_type": "code",
   "execution_count": 23,
   "metadata": {},
   "outputs": [
    {
     "name": "stdout",
     "output_type": "stream",
     "text": [
      "End\n"
     ]
    }
   ],
   "source": [
    "\n"
   ]
  },
  {
   "cell_type": "code",
   "execution_count": null,
   "metadata": {},
   "outputs": [],
   "source": []
  }
 ],
 "metadata": {
  "kernelspec": {
   "display_name": "Python 3",
   "language": "python",
   "name": "python3"
  },
  "language_info": {
   "codemirror_mode": {
    "name": "ipython",
    "version": 3
   },
   "file_extension": ".py",
   "mimetype": "text/x-python",
   "name": "python",
   "nbconvert_exporter": "python",
   "pygments_lexer": "ipython3",
   "version": "3.7.4"
  }
 },
 "nbformat": 4,
 "nbformat_minor": 2
}
