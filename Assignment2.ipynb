{
 "cells": [
  {
   "cell_type": "code",
   "execution_count": 2,
   "metadata": {},
   "outputs": [
    {
     "name": "stdout",
     "output_type": "stream",
     "text": [
      "Take input from user 5\n",
      "78.53981633974483\n"
     ]
    }
   ],
   "source": [
    "from math import pi\n",
    "\n",
    "r=float(input('Take input from user '))\n",
    "\n",
    "print(pi*r**2)"
   ]
  },
  {
   "cell_type": "code",
   "execution_count": 4,
   "metadata": {},
   "outputs": [
    {
     "name": "stdout",
     "output_type": "stream",
     "text": [
      "\t\t\t\t\t\tMark Sheet\n",
      "Please Enter Math Marks 98\n",
      "Please Enter Computer Marks 78\n",
      "Please Enter Basic Programming Marks 67\n",
      "Please Enter Advanced Programing Marks 99\n",
      "Please Enter Data Structure Marks 67\n",
      "Total:  409\n",
      "Total Percentage:  81.8\n",
      "Grade is A+:\t  81.8\n"
     ]
    }
   ],
   "source": [
    "print('\\t\\t\\t\\t\\t\\tMark Sheet')\n",
    "math=int(input('Please Enter Math Marks '))\n",
    "comp=int(input('Please Enter Computer Marks '))\n",
    "bProg=int(input('Please Enter Basic Programming Marks '))\n",
    "aProg=int(input('Please Enter Advanced Programing Marks '))\n",
    "dStruct=int(input('Please Enter Data Structure Marks '))\n",
    "\n",
    "totalSum=math+comp+bProg+aProg+dStruct\n",
    "totalMarks=500\n",
    "totalPercentage=totalSum/totalMarks*100\n",
    "print(\"Total: \",totalSum)\n",
    "print(\"Total Percentage: \",totalPercentage)\n",
    "\n",
    "if(totalPercentage >= 80 and totalPercentage <=100):\n",
    "    print('Grade is A+:\\t ',totalPercentage);\n",
    "elif(totalPercentage >= 70 and totalPercentage <80):\n",
    "    print('Grade is A:\\t ',totalPercentage);\n",
    "elif(totalPercentage >= 60 and totalPercentage <70):\n",
    "    print('Grade is B:\\t ',totalPercentage);\n",
    "elif(totalPercentage >= 50 and totalPercentage <60):\n",
    "    print('Grade is C:\\t ',totalPercentage);\n",
    "elif(totalPercentage >= 40 and totalPercentage <50):\n",
    "    print('Grade is D:\\t ',totalPercentage);\n",
    "else:\n",
    "    print('Grade is Fail:\\t ',totalPercentage)"
   ]
  },
  {
   "cell_type": "code",
   "execution_count": null,
   "metadata": {},
   "outputs": [],
   "source": []
  },
  {
   "cell_type": "code",
   "execution_count": null,
   "metadata": {},
   "outputs": [],
   "source": [
    "num = int(input(\"Enter any number: \"))\n",
    "if num%2==0:\n",
    "    print(\"Is an even number.\",num)\n",
    "else:\n",
    "    print(\"Is an odd number.\",num)"
   ]
  },
  {
   "cell_type": "code",
   "execution_count": null,
   "metadata": {},
   "outputs": [],
   "source": [
    "num = int(input(\"Enter any number: \"))\n",
    "if num%2==0:\n",
    "    print(\"Is an even number.\",num)\n",
    "else:\n",
    "    print(\"Is an odd number.\",num)"
   ]
  },
  {
   "cell_type": "code",
   "execution_count": null,
   "metadata": {},
   "outputs": [],
   "source": []
  }
 ],
 "metadata": {
  "kernelspec": {
   "display_name": "Python 3",
   "language": "python",
   "name": "python3"
  },
  "language_info": {
   "codemirror_mode": {
    "name": "ipython",
    "version": 3
   },
   "file_extension": ".py",
   "mimetype": "text/x-python",
   "name": "python",
   "nbconvert_exporter": "python",
   "pygments_lexer": "ipython3",
   "version": "3.7.4"
  }
 },
 "nbformat": 4,
 "nbformat_minor": 2
}
